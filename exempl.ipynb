{
 "cells": [
  {
   "cell_type": "code",
   "execution_count": 3,
   "metadata": {},
   "outputs": [],
   "source": [
    "# Demander à l'utilisateur de saisir des informations personnelles\n",
    "nom = input(\"Entrez votre nom : \")\n",
    "\n",
    "# Convertir le nom de famille en majuscules\n",
    "nom = nom.upper()\n",
    "\n",
    "age = input(\"Entrez votre âge : \")\n",
    "taille = input(\"Entrez votre taille (en centimètres) : \")\n",
    "\n",
    "# Demander à l'utilisateur de saisir une liste de fruits préférés\n",
    "fruits = input(\"Entrez une liste de fruits préférés (séparés par des virgules) : \")\n",
    "fruits_liste = fruits.split(\",\")  # Divise la chaîne en une liste\n",
    "\n",
    "\n",
    "\n",
    "# Construire un message de salutation personnalisé\n",
    "message = f\"Bonjour {nom} ! Vous avez {age} ans et mesurez {taille} cm. Vos fruits préférés sont : {', '.join(fruits_liste)}.\"\n",
    "\n",
    "# Afficher le message de salutation\n",
    "print(message)\n"
   ]
  },
  {
   "cell_type": "code",
   "execution_count": null,
   "metadata": {},
   "outputs": [],
   "source": []
  }
 ],
 "metadata": {
  "kernelspec": {
   "display_name": "Python 3",
   "language": "python",
   "name": "python3"
  },
  "language_info": {
   "codemirror_mode": {
    "name": "ipython",
    "version": 3
   },
   "file_extension": ".py",
   "mimetype": "text/x-python",
   "name": "python",
   "nbconvert_exporter": "python",
   "pygments_lexer": "ipython3",
   "version": "3.11.6"
  }
 },
 "nbformat": 4,
 "nbformat_minor": 2
}
